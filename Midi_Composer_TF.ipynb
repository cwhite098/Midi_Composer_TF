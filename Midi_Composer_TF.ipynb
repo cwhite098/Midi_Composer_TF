{
 "cells": [
  {
   "cell_type": "markdown",
   "source": [
    "2nd attempt at generating nice music using a neural network. I will be basing this on the following tutorial:\n",
    "https://www.datacamp.com/community/tutorials/using-tensorflow-to-compose-music"
   ],
   "metadata": {}
  },
  {
   "cell_type": "code",
   "execution_count": 27,
   "source": [
    "# First I need to create dataset, this will be done via webscraping\n",
    "\n",
    "from urllib.request import urlopen, urlretrieve\n",
    "from bs4 import BeautifulSoup\n",
    "import time\n",
    "\n",
    "# Directory to save the Midi files\n",
    "save_dir = '../piano/'\n",
    "\n",
    "# Url is plsit into two so we can go through the pages of the search results\n",
    "url0 = 'https://www.mutopiaproject.org/cgibin/make-table.cgi?startat='\n",
    "url1 = '&searchingfor=&Composer=&Instrument=Piano&Style=Jazz&collection=&id=&solo=1&recent=&timelength=1&timeunit=week&lilyversion=&preview='\n",
    "\n",
    "# Init values\n",
    "song_number = 0\n",
    "link_count = 10\n",
    "\n",
    "file_name = 0\n",
    "\n",
    "# main loop\n",
    "while link_count > 0:\n",
    "    #finds the correct page of search results\n",
    "    url = url0 + str(song_number) + url1\n",
    "    html = urlopen(url)\n",
    "    soup = BeautifulSoup(html.read())\n",
    "    # Finds all the links on the page\n",
    "    links = soup.find_all('a')\n",
    "    link_count = 0\n",
    "\n",
    "    for link in links:\n",
    "        href = link['href']\n",
    "        # Find all links with a .mid in them\n",
    "        if href.find('.mid') >= 0:\n",
    "            link_count = link_count + 1\n",
    "            #Download that link\n",
    "            urlretrieve(href, 'piano/'+str(file_name)+'.mid' )\n",
    "            file_name += 1\n",
    "\n",
    "    #+10 since there are 10 results on each page\n",
    "    song_number += 10\n",
    "    # Small wait to be nice to the website\n",
    "    time.sleep(10.0)"
   ],
   "outputs": [],
   "metadata": {}
  }
 ],
 "metadata": {
  "orig_nbformat": 4,
  "language_info": {
   "name": "python",
   "version": "3.8.10",
   "mimetype": "text/x-python",
   "codemirror_mode": {
    "name": "ipython",
    "version": 3
   },
   "pygments_lexer": "ipython3",
   "nbconvert_exporter": "python",
   "file_extension": ".py"
  },
  "kernelspec": {
   "name": "python3",
   "display_name": "Python 3.8.10 64-bit ('MLvenv': venv)"
  },
  "interpreter": {
   "hash": "3c5deedbfea70084e63f288ba49a2f9456761c977349528e54a40dbdea00cf01"
  }
 },
 "nbformat": 4,
 "nbformat_minor": 2
}